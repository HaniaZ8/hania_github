{
 "cells": [
  {
   "cell_type": "markdown",
   "id": "f3cd2864",
   "metadata": {},
   "source": [
    "# Programowanie obiektowe"
   ]
  },
  {
   "cell_type": "markdown",
   "id": "2127082e",
   "metadata": {},
   "source": [
    "## Podstawy - definiowanie obiektu"
   ]
  },
  {
   "cell_type": "markdown",
   "id": "bcf70b54",
   "metadata": {},
   "source": [
    "Celem programowania obiektowego jest odtworzenie wybranych cech świata rzeczywistego lub fikcyjnego. Pomyślmy o modelu, jaki przyjęli twórcy gry Wiedźmin. "
   ]
  },
  {
   "cell_type": "markdown",
   "id": "09cfdbf2",
   "metadata": {},
   "source": [
    "Załóżmy, że postać jest tworzona z cechami imię, klasa, wiek. Zdefiniuj klasę Hero. Podczas tworzenia bohatera przyjmij tylko parametr imię (name). Pamiętaj o:\n",
    "- słowie kluczowym self w definicji init\n",
    "- słowie kluczowym self w przypisaniu imienia do atrybutu klasy"
   ]
  },
  {
   "cell_type": "code",
   "execution_count": 8,
   "id": "89a219fc",
   "metadata": {},
   "outputs": [],
   "source": [
    "# człowiek: imie, wiek, waga, wzrost\n",
    "class Hero:\n",
    "    def __init__(self,imie):\n",
    "        self.name=imie\n",
    "    \n",
    "czlow=Hero(\"Ania\")"
   ]
  },
  {
   "cell_type": "markdown",
   "id": "13efbbc7",
   "metadata": {},
   "source": [
    "Stwórz obiekt geralt o imieniu Geralt."
   ]
  },
  {
   "cell_type": "code",
   "execution_count": 24,
   "id": "d2f34c58",
   "metadata": {},
   "outputs": [],
   "source": [
    "geralt=Hero(\"Geralt\")"
   ]
  },
  {
   "cell_type": "markdown",
   "id": "35a7df24",
   "metadata": {},
   "source": [
    "Sprawdź jego imię."
   ]
  },
  {
   "cell_type": "code",
   "execution_count": 25,
   "id": "a814766e",
   "metadata": {},
   "outputs": [
    {
     "name": "stdout",
     "output_type": "stream",
     "text": [
      "Geralt\n"
     ]
    }
   ],
   "source": [
    "print(geralt.name)"
   ]
  },
  {
   "cell_type": "markdown",
   "id": "9991e4af",
   "metadata": {},
   "source": [
    "Dodaj pozostałe atrybuty: wiek o wartości domyślnej 30 i klasę (hclass) o wartości domyślnej Witcher"
   ]
  },
  {
   "cell_type": "code",
   "execution_count": 53,
   "id": "0d00f84d",
   "metadata": {},
   "outputs": [],
   "source": [
    "class Hero:\n",
    "    def __init__(self, imie, wiek=30, klasa=\"Witcher\"):\n",
    "        self.name=imie\n",
    "        self.age=wiek\n",
    "        self.hclass=klasa\n"
   ]
  },
  {
   "cell_type": "markdown",
   "id": "85e5c66c",
   "metadata": {},
   "source": [
    "Zanim utworzysz obiekt - wywołaj wyświetl wiek geralt"
   ]
  },
  {
   "cell_type": "code",
   "execution_count": 52,
   "id": "ad30d4d3",
   "metadata": {},
   "outputs": [
    {
     "ename": "AttributeError",
     "evalue": "'Hero' object has no attribute 'hclass'",
     "output_type": "error",
     "traceback": [
      "\u001b[1;31m---------------------------------------------------------------------------\u001b[0m",
      "\u001b[1;31mAttributeError\u001b[0m                            Traceback (most recent call last)",
      "Input \u001b[1;32mIn [52]\u001b[0m, in \u001b[0;36m<cell line: 1>\u001b[1;34m()\u001b[0m\n\u001b[1;32m----> 1\u001b[0m \u001b[38;5;28mprint\u001b[39m(ger\u001b[38;5;241m.\u001b[39mage, \u001b[43mger\u001b[49m\u001b[38;5;241;43m.\u001b[39;49m\u001b[43mhclass\u001b[49m)\n",
      "\u001b[1;31mAttributeError\u001b[0m: 'Hero' object has no attribute 'hclass'"
     ]
    }
   ],
   "source": [
    "print(ger.age)"
   ]
  },
  {
   "cell_type": "markdown",
   "id": "33fd9b20",
   "metadata": {},
   "source": [
    "Utwórz obiekt ponownie z tym samym atrybutem co wcześniej"
   ]
  },
  {
   "cell_type": "code",
   "execution_count": 54,
   "id": "a771a55e",
   "metadata": {},
   "outputs": [],
   "source": [
    "geralt=Hero( \"Geralt\")"
   ]
  },
  {
   "cell_type": "markdown",
   "id": "e1ebb490",
   "metadata": {},
   "source": [
    "Sprawdź wiek bohatera."
   ]
  },
  {
   "cell_type": "code",
   "execution_count": 60,
   "id": "eb96891c",
   "metadata": {},
   "outputs": [
    {
     "name": "stdout",
     "output_type": "stream",
     "text": [
      "30\n"
     ]
    }
   ],
   "source": [
    "print(geralt.age)"
   ]
  },
  {
   "cell_type": "markdown",
   "id": "c3b79ec2",
   "metadata": {},
   "source": [
    "Stwórz bohatera Geralt w wieku 25 lat i sprawdź wiek:"
   ]
  },
  {
   "cell_type": "code",
   "execution_count": 34,
   "id": "efd41f50",
   "metadata": {},
   "outputs": [],
   "source": [
    "geralt=Hero( \"Geralt\", 25)"
   ]
  },
  {
   "cell_type": "code",
   "execution_count": 35,
   "id": "573e591d",
   "metadata": {},
   "outputs": [
    {
     "name": "stdout",
     "output_type": "stream",
     "text": [
      "25\n"
     ]
    }
   ],
   "source": [
    "print(geralt.age)"
   ]
  },
  {
   "cell_type": "markdown",
   "id": "0a0d7896",
   "metadata": {},
   "source": [
    "Zamiast 25 użyj słowa witcher. Stwórz ponownie postać i sprawdź jej wiek:"
   ]
  },
  {
   "cell_type": "code",
   "execution_count": 36,
   "id": "a65e2259",
   "metadata": {},
   "outputs": [],
   "source": [
    "geralt=Hero( \"Geralt\", \"witcher\")"
   ]
  },
  {
   "cell_type": "code",
   "execution_count": 37,
   "id": "d9db1dbe",
   "metadata": {},
   "outputs": [
    {
     "name": "stdout",
     "output_type": "stream",
     "text": [
      "witcher\n"
     ]
    }
   ],
   "source": [
    "print(geralt.age)"
   ]
  },
  {
   "cell_type": "markdown",
   "id": "37da76c9",
   "metadata": {},
   "source": [
    "Czy to jest oczekiwane działanie?"
   ]
  },
  {
   "cell_type": "markdown",
   "id": "e0ce5b1c",
   "metadata": {},
   "source": [
    "## Hermetyzacja"
   ]
  },
  {
   "cell_type": "markdown",
   "id": "d3bb06dd",
   "metadata": {},
   "source": [
    "W praktyce nie chcemy, żeby ktoś wykorzystujący tę klasę (czyli inny programista) zmieniał sobie ten atrybut dowolnie. Stąd wykorzystujemy metody do operacji get/set."
   ]
  },
  {
   "cell_type": "markdown",
   "id": "7470daff",
   "metadata": {},
   "source": [
    "Napisz metodę, która ustawi wiek bohatera. Pamiętaj o słowie kluczowym self w dwóch miejscach"
   ]
  },
  {
   "cell_type": "code",
   "execution_count": 13,
   "id": "32c820a4",
   "metadata": {},
   "outputs": [],
   "source": [
    "class Hero:\n",
    "    def __init__(self, wiek=\"20\"):\n",
    "        self.__age=wiek\n",
    "    def set_wiek(self, arg):\n",
    "        self.__age=arg\n",
    "    def get_wiek(self):\n",
    "        print(self.__age)\n",
    "    \n",
    "#ukrywamy argumenty po to, żeby inny programista ich nie zmienił, set jest potrzebne, żeby potem użyć get    \n"
   ]
  },
  {
   "cell_type": "markdown",
   "id": "1d52c302",
   "metadata": {},
   "source": [
    "Przetestuj metodę."
   ]
  },
  {
   "cell_type": "code",
   "execution_count": 15,
   "id": "463cf450",
   "metadata": {},
   "outputs": [],
   "source": [
    "cl=Hero()"
   ]
  },
  {
   "cell_type": "code",
   "execution_count": 16,
   "id": "25400eab",
   "metadata": {},
   "outputs": [
    {
     "name": "stdout",
     "output_type": "stream",
     "text": [
      "20\n",
      "None\n"
     ]
    }
   ],
   "source": [
    "print(cl.get_wiek())"
   ]
  },
  {
   "cell_type": "markdown",
   "id": "5af14f06",
   "metadata": {},
   "source": [
    "Dla chętnych: zmodyfikuj metodę, żeby sprawdzała, czy wprowadzony wiek był liczbą w zakresie 16-80."
   ]
  },
  {
   "cell_type": "markdown",
   "id": "e3973c75",
   "metadata": {},
   "source": [
    "Do inita dodaj atrybut level o wartości początkowej 1. Dodaj metodę level_up, która zwiększy wartość poziomu o 1. Jakie parametry wejściowe powinna mieć ta metoda?"
   ]
  },
  {
   "cell_type": "code",
   "execution_count": 8,
   "id": "378d82b3",
   "metadata": {},
   "outputs": [],
   "source": [
    "class Hero:\n",
    "    def __init__(self):\n",
    "        self.level=1\n",
    "    def level_up(self):\n",
    "        self.level = self.level+1\n",
    "geralt=Hero()"
   ]
  },
  {
   "cell_type": "code",
   "execution_count": 10,
   "id": "60d18bc0",
   "metadata": {},
   "outputs": [
    {
     "name": "stdout",
     "output_type": "stream",
     "text": [
      "3\n"
     ]
    }
   ],
   "source": [
    "geralt.level_up()\n",
    "print(geralt.level)"
   ]
  },
  {
   "cell_type": "markdown",
   "id": "2104d5d0",
   "metadata": {},
   "source": [
    "## Abstrakcja"
   ]
  },
  {
   "cell_type": "markdown",
   "id": "5c6402cf",
   "metadata": {},
   "source": [
    "Do atrybutów bohatera dodaj siłę (power) i wiedzę (knowledge). W init dodaj ustawianie tych parametrów odpowiednio:\n",
    "- 1 i 3, kiedy klasa bohatera to witcher\n",
    "- 3 i 1, kiedy klasa bohatera to warrior\n",
    "- 2 i 2, w przeciwnym przypadku\n",
    "Dodaj także atrybut points_to_spend o wartości początkowej 0."
   ]
  },
  {
   "cell_type": "code",
   "execution_count": null,
   "id": "2a2b3439",
   "metadata": {},
   "outputs": [],
   "source": [
    "class Hero:\n",
    "    def __init__(self, wiek=\"20\",klasa):\n",
    "        self.age=wiek\n",
    "        self.level=1\n",
    "        self.hclass=klasa\n",
    "        points_to_spend=0\n",
    "        self.level=1\n",
    "        if self.hclass==\"wicher\":\n",
    "            self.power=1\n",
    "            self.knowledge=3\n",
    "        elif self.hclass==\"warrior\":\n",
    "            self.power=3\n",
    "            self.knowledge=1\n",
    "        else:\n",
    "            self.power=2\n",
    "            self.knowledge=2\n",
    "    def level_up(self):\n",
    "        self.level = self.level+1\n",
    "       "
   ]
  },
  {
   "cell_type": "markdown",
   "id": "eccfbbf5",
   "metadata": {},
   "source": [
    "Zmodyfikuj metodę level_up:\n",
    "- Jeżeli klasa to witcher, to + 1 do siły, + 2 do wiedzy, oraz + 5 do wydania\n",
    "- Jeżeli klasa to warrior, to + 3 do siły, + 1 do wiedzy, oraz + 4 do wydania\n",
    "- W p. p. + 2 do siły, + 2 do wiedzy, oraz + 4 do wydania"
   ]
  },
  {
   "cell_type": "code",
   "execution_count": 2,
   "id": "55028a20",
   "metadata": {},
   "outputs": [],
   "source": [
    "class Hero:\n",
    "    def __init__(self,wiek,klasa):\n",
    "        self.age=wiek\n",
    "        self.level=1\n",
    "        self.hclass=klasa\n",
    "        self.points_to_spend=0\n",
    "        self.level=1\n",
    "        if self.hclass==\"wicher\":\n",
    "            self.power=1\n",
    "            self.knowledge=3\n",
    "        elif self.hclass==\"warrior\":\n",
    "            self.power=3\n",
    "            self.knowledge=1\n",
    "        else:\n",
    "            self.power=2\n",
    "            self.knowledge=2\n",
    "    def level_up(self):\n",
    "        if self.hclass==\"wicher\":\n",
    "            self.power=self.power+1\n",
    "            self.knowledge=self.knowledge+2\n",
    "            self.points_to_spend=self.points_to_spend+5\n",
    "            self.level = self.level+1\n",
    "        elif self.hclass==\"warrior\":\n",
    "            self.power=self.power+3\n",
    "            self.knowledge=self.knowledge+1\n",
    "            self.points_to_spend=self.points_to_spend+4\n",
    "            self.level = self.level+1\n",
    "        else:\n",
    "            self.power=self.power+2\n",
    "            self.knowledge=self.knowledge+2\n",
    "            self.points_to_spend=self.points_to_spend+4\n",
    "            self.level = self.level+1\n",
    "    def stats(self):\n",
    "        print(self.level)\n",
    "        print(self.hclass)\n",
    "        print(self.points_to_spend)\n",
    "        print(self.power)\n",
    "        print(self.knowledge)"
   ]
  },
  {
   "cell_type": "markdown",
   "id": "4553d7d1",
   "metadata": {},
   "source": [
    "Przetestuj kod."
   ]
  },
  {
   "cell_type": "code",
   "execution_count": 16,
   "id": "fc294a83",
   "metadata": {},
   "outputs": [],
   "source": [
    "geralt=Hero(20,\"witcher\")"
   ]
  },
  {
   "cell_type": "code",
   "execution_count": 19,
   "id": "f1ffc3e6",
   "metadata": {},
   "outputs": [],
   "source": [
    "geralt.level_up()"
   ]
  },
  {
   "cell_type": "code",
   "execution_count": 20,
   "id": "409b1ea3",
   "metadata": {},
   "outputs": [
    {
     "name": "stdout",
     "output_type": "stream",
     "text": [
      "3\n",
      "witcher\n",
      "8\n",
      "6\n",
      "6\n",
      "None\n"
     ]
    }
   ],
   "source": [
    "print(geralt.stats())"
   ]
  },
  {
   "cell_type": "markdown",
   "id": "164e40be",
   "metadata": {},
   "source": [
    "Dodaj dwa nowe atrybuty:\n",
    "- experience o wartości początkowej 0\n",
    "- next_level o wartości początkowej 1000"
   ]
  },
  {
   "cell_type": "code",
   "execution_count": 21,
   "id": "452f1689",
   "metadata": {},
   "outputs": [],
   "source": [
    "class Hero:\n",
    "    def __init__(self,wiek,klasa):\n",
    "        self.age=wiek\n",
    "        self.level=1\n",
    "        self.hclass=klasa\n",
    "        self.points_to_spend=0\n",
    "        self.level=1\n",
    "        self.experience=0\n",
    "        self.next_level=1000\n",
    "        if self.hclass==\"wicher\":\n",
    "            self.power=1\n",
    "            self.knowledge=3\n",
    "        elif self.hclass==\"warrior\":\n",
    "            self.power=3\n",
    "            self.knowledge=1\n",
    "        else:\n",
    "            self.power=2\n",
    "            self.knowledge=2\n",
    "    def level_up(self):\n",
    "        if self.hclass==\"wicher\":\n",
    "            self.power=self.power+1\n",
    "            self.knowledge=self.knowledge+2\n",
    "            self.points_to_spend=self.points_to_spend+5\n",
    "            self.level = self.level+1\n",
    "        elif self.hclass==\"warrior\":\n",
    "            self.power=self.power+3\n",
    "            self.knowledge=self.knowledge+1\n",
    "            self.points_to_spend=self.points_to_spend+4\n",
    "            self.level = self.level+1\n",
    "        else:\n",
    "            self.power=self.power+2\n",
    "            self.knowledge=self.knowledge+2\n",
    "            self.points_to_spend=self.points_to_spend+4\n",
    "            self.level = self.level+1\n",
    "    def stats(self):\n",
    "        print(self.level)\n",
    "        print(self.hclass)\n",
    "        print(self.points_to_spend)\n",
    "        print(self.power)\n",
    "        print(self.knowledge)"
   ]
  },
  {
   "cell_type": "markdown",
   "id": "2239b51c",
   "metadata": {},
   "source": [
    "Napisz metodę add_experience, która:\n",
    "- przyjmie określoną liczbę punktów\n",
    "- doda te punkty do doświadczenia\n",
    "- jeżeli experience przekroczy next level:\n",
    "  - to experience przyjmie wartość różnicy pomiędzy experience a next level\n",
    "  - next_level przyjmie wartość next_level razy dwa\n",
    "  - zostanie podniesiony poziom"
   ]
  },
  {
   "cell_type": "code",
   "execution_count": 12,
   "id": "3cc3dbbb",
   "metadata": {},
   "outputs": [],
   "source": [
    "class Hero:\n",
    "    def __init__(self,wiek,klasa):\n",
    "        self.age=wiek\n",
    "        self.level=1\n",
    "        self.hclass=klasa\n",
    "        self.points_to_spend=0\n",
    "        self.level=1\n",
    "        self.experience=0\n",
    "        self.next_level=1000\n",
    "        self.points=334\n",
    "        if self.hclass==\"wicher\":\n",
    "            self.power=1\n",
    "            self.knowledge=3\n",
    "        elif self.hclass==\"warrior\":\n",
    "            self.power=3\n",
    "            self.knowledge=1\n",
    "        else:\n",
    "            self.power=2\n",
    "            self.knowledge=2\n",
    "    def level_up(self):\n",
    "        if self.hclass==\"wicher\":\n",
    "            self.power=self.power+1\n",
    "            self.knowledge=self.knowledge+2\n",
    "            self.points_to_spend=self.points_to_spend+5\n",
    "            self.level = self.level+1\n",
    "        elif self.hclass==\"warrior\":\n",
    "            self.power=self.power+3\n",
    "            self.knowledge=self.knowledge+1\n",
    "            self.points_to_spend=self.points_to_spend+4\n",
    "            self.level = self.level+1\n",
    "        else:\n",
    "            self.power=self.power+2\n",
    "            self.knowledge=self.knowledge+2\n",
    "            self.points_to_spend=self.points_to_spend+4\n",
    "            self.level = self.level+1\n",
    "    def stats(self):\n",
    "        print(self.level)\n",
    "        print(self.hclass)\n",
    "        print(self.points_to_spend)\n",
    "        print(self.power)\n",
    "        print(self.knowledge)\n",
    "        print(self.experience)\n",
    "    def add_experience(self):\n",
    "        self.experience=self.experience+self.points\n",
    "        if self.experience>self.next_level:\n",
    "            self.experience = self.experience-self.next_level\n",
    "            self.next_level = self.next_level*2\n",
    "            self.level_up()\n",
    "        else:\n",
    "            pass\n",
    "geralt=Hero(20,\"witcher\")"
   ]
  },
  {
   "cell_type": "code",
   "execution_count": 26,
   "id": "025e74bc",
   "metadata": {},
   "outputs": [],
   "source": [
    "geralt.add_experience()"
   ]
  },
  {
   "cell_type": "code",
   "execution_count": 27,
   "id": "eeefb900",
   "metadata": {},
   "outputs": [
    {
     "name": "stdout",
     "output_type": "stream",
     "text": [
      "3\n",
      "witcher\n",
      "8\n",
      "6\n",
      "6\n",
      "500\n",
      "None\n"
     ]
    }
   ],
   "source": [
    "print(geralt.stats())"
   ]
  },
  {
   "cell_type": "markdown",
   "id": "68ca2b5e",
   "metadata": {},
   "source": [
    "## Kontrola dostępu"
   ]
  },
  {
   "cell_type": "markdown",
   "id": "7e545e7a",
   "metadata": {},
   "source": [
    "Zmień nazwę parametru age na _age."
   ]
  },
  {
   "cell_type": "code",
   "execution_count": 2,
   "id": "3707b937",
   "metadata": {},
   "outputs": [],
   "source": [
    "class Hero:\n",
    "    def __init__(self, imie, wiek=30, klasa=\"Witcher\"):\n",
    "        self.name=imie\n",
    "        self._age=wiek\n",
    "        self.hclass=klasa\n"
   ]
  },
  {
   "cell_type": "markdown",
   "id": "69efc778",
   "metadata": {},
   "source": [
    "Sprawdź, czy możesz go zaktualizować (poprzez zmianę wartości)."
   ]
  },
  {
   "cell_type": "code",
   "execution_count": 3,
   "id": "5a021a75",
   "metadata": {},
   "outputs": [
    {
     "name": "stdout",
     "output_type": "stream",
     "text": [
      "20\n"
     ]
    }
   ],
   "source": [
    "geralt=Hero(\"Geralt\",20, \"Witcher\")\n",
    "print(geralt._age)"
   ]
  },
  {
   "cell_type": "markdown",
   "id": "9e09a5e9",
   "metadata": {},
   "source": [
    "Zmień nazwę tego parametru na \\_\\_age i sprawdź, czy możesz go zmienić."
   ]
  },
  {
   "cell_type": "code",
   "execution_count": 5,
   "id": "167eca43",
   "metadata": {},
   "outputs": [
    {
     "ename": "AttributeError",
     "evalue": "'Hero' object has no attribute '__age'",
     "output_type": "error",
     "traceback": [
      "\u001b[1;31m---------------------------------------------------------------------------\u001b[0m",
      "\u001b[1;31mAttributeError\u001b[0m                            Traceback (most recent call last)",
      "Input \u001b[1;32mIn [5]\u001b[0m, in \u001b[0;36m<cell line: 7>\u001b[1;34m()\u001b[0m\n\u001b[0;32m      5\u001b[0m         \u001b[38;5;28mself\u001b[39m\u001b[38;5;241m.\u001b[39mhclass\u001b[38;5;241m=\u001b[39mklasa\n\u001b[0;32m      6\u001b[0m geralt\u001b[38;5;241m=\u001b[39mHero(\u001b[38;5;124m\"\u001b[39m\u001b[38;5;124mGeralt\u001b[39m\u001b[38;5;124m\"\u001b[39m,\u001b[38;5;241m20\u001b[39m,\u001b[38;5;124m\"\u001b[39m\u001b[38;5;124mWitcher\u001b[39m\u001b[38;5;124m\"\u001b[39m)\n\u001b[1;32m----> 7\u001b[0m \u001b[38;5;28mprint\u001b[39m(\u001b[43mgeralt\u001b[49m\u001b[38;5;241;43m.\u001b[39;49m\u001b[43m__age\u001b[49m)\n",
      "\u001b[1;31mAttributeError\u001b[0m: 'Hero' object has no attribute '__age'"
     ]
    }
   ],
   "source": [
    "class Hero:\n",
    "    def __init__(self, imie, wiek=30, klasa=\"Witcher\"):\n",
    "        self.name=imie\n",
    "        self.__age=wiek\n",
    "        self.hclass=klasa\n",
    "geralt=Hero(\"Geralt\",20,\"Witcher\")\n",
    "print(geralt.__age)"
   ]
  },
  {
   "cell_type": "markdown",
   "id": "672da308",
   "metadata": {},
   "source": [
    "Wykorzystaj obejście (przedstawione na wykładzie) i zmień jego wartość."
   ]
  },
  {
   "cell_type": "code",
   "execution_count": 13,
   "id": "d5cf241f",
   "metadata": {},
   "outputs": [
    {
     "name": "stdout",
     "output_type": "stream",
     "text": [
      "20\n"
     ]
    }
   ],
   "source": [
    "class Hero:\n",
    "    def __init__(self, imie, wiek=30, klasa=\"Witcher\"):\n",
    "        self.name=imie\n",
    "        self.__age=wiek\n",
    "        self.hclass=klasa\n",
    "    def set_wiek(self, arg):\n",
    "        self.__age=arg\n",
    "    def get_wiek(self):\n",
    "        print(self.__age)\n",
    "\n",
    "geralt=Hero(\"Geralt\")\n",
    "geralt.set_wiek(20)\n",
    "geralt.get_wiek()"
   ]
  },
  {
   "cell_type": "markdown",
   "id": "343cacd2",
   "metadata": {},
   "source": [
    "Zmień nazwę metody level_up na \\_\\_level_up. Dokonaj odpowiednich uaktualnień w kodzie"
   ]
  },
  {
   "cell_type": "code",
   "execution_count": 16,
   "id": "87f77460",
   "metadata": {},
   "outputs": [
    {
     "ename": "AttributeError",
     "evalue": "'Hero' object has no attribute '__level_up'",
     "output_type": "error",
     "traceback": [
      "\u001b[1;31m---------------------------------------------------------------------------\u001b[0m",
      "\u001b[1;31mAttributeError\u001b[0m                            Traceback (most recent call last)",
      "Input \u001b[1;32mIn [16]\u001b[0m, in \u001b[0;36m<cell line: 7>\u001b[1;34m()\u001b[0m\n\u001b[0;32m      5\u001b[0m         \u001b[38;5;28mself\u001b[39m\u001b[38;5;241m.\u001b[39mlevel \u001b[38;5;241m=\u001b[39m \u001b[38;5;28mself\u001b[39m\u001b[38;5;241m.\u001b[39mlevel\u001b[38;5;241m+\u001b[39m\u001b[38;5;241m1\u001b[39m\n\u001b[0;32m      6\u001b[0m geralt\u001b[38;5;241m=\u001b[39mHero()\n\u001b[1;32m----> 7\u001b[0m \u001b[43mgeralt\u001b[49m\u001b[38;5;241;43m.\u001b[39;49m\u001b[43m__level_up\u001b[49m()\n",
      "\u001b[1;31mAttributeError\u001b[0m: 'Hero' object has no attribute '__level_up'"
     ]
    }
   ],
   "source": [
    "class Hero:\n",
    "    def __init__(self):\n",
    "        self.level=1\n",
    "    def __level_up(self):\n",
    "        self.level = self.level+1\n",
    "geralt=Hero()\n",
    "geralt.__level_up()"
   ]
  },
  {
   "cell_type": "code",
   "execution_count": null,
   "id": "7f7d1af9",
   "metadata": {},
   "outputs": [],
   "source": [
    "#teraz metoda nie działa"
   ]
  },
  {
   "cell_type": "markdown",
   "id": "ef0d6248",
   "metadata": {},
   "source": [
    "Które parametry i metody powinny być chronione?"
   ]
  },
  {
   "cell_type": "code",
   "execution_count": null,
   "id": "47171308",
   "metadata": {},
   "outputs": [],
   "source": [
    "#Takie których nie powinniśmy przypadkowo zmienić, nie te które muszą być interaktywne."
   ]
  }
 ],
 "metadata": {
  "kernelspec": {
   "display_name": "Python 3 (ipykernel)",
   "language": "python",
   "name": "python3"
  },
  "language_info": {
   "codemirror_mode": {
    "name": "ipython",
    "version": 3
   },
   "file_extension": ".py",
   "mimetype": "text/x-python",
   "name": "python",
   "nbconvert_exporter": "python",
   "pygments_lexer": "ipython3",
   "version": "3.9.12"
  }
 },
 "nbformat": 4,
 "nbformat_minor": 5
}
